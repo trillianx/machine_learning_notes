{
 "cells": [
  {
   "cell_type": "code",
   "execution_count": 9,
   "metadata": {
    "ExecuteTime": {
     "end_time": "2021-01-19T21:28:38.085882Z",
     "start_time": "2021-01-19T21:28:37.624755Z"
    }
   },
   "outputs": [],
   "source": [
    "import random\n",
    "import pandas as pd\n",
    "import numpy as np\n",
    "from sklearn.datasets import load_iris"
   ]
  },
  {
   "cell_type": "markdown",
   "metadata": {},
   "source": [
    "# Loading Data"
   ]
  },
  {
   "cell_type": "code",
   "execution_count": 10,
   "metadata": {
    "ExecuteTime": {
     "end_time": "2021-01-19T21:28:46.449199Z",
     "start_time": "2021-01-19T21:28:46.444527Z"
    }
   },
   "outputs": [],
   "source": [
    "iris_data = load_iris()"
   ]
  },
  {
   "cell_type": "code",
   "execution_count": 22,
   "metadata": {
    "ExecuteTime": {
     "end_time": "2021-01-19T21:34:45.733305Z",
     "start_time": "2021-01-19T21:34:45.722988Z"
    }
   },
   "outputs": [],
   "source": [
    "df = pd.DataFrame(iris_data['data'], columns=['sepal_length','sepal_width','petal_length','petal_width'])\n",
    "df.loc[:, 'target'] = iris_data['target']"
   ]
  },
  {
   "cell_type": "code",
   "execution_count": 24,
   "metadata": {
    "ExecuteTime": {
     "end_time": "2021-01-19T21:37:37.496423Z",
     "start_time": "2021-01-19T21:37:37.493667Z"
    }
   },
   "outputs": [],
   "source": [
    "def get_names(x):\n",
    "    if x == 0:\n",
    "        return 'setosa'\n",
    "    elif x == 1:\n",
    "        return 'vericolor'\n",
    "    else:\n",
    "        return 'virginica'"
   ]
  },
  {
   "cell_type": "code",
   "execution_count": 25,
   "metadata": {
    "ExecuteTime": {
     "end_time": "2021-01-19T21:38:12.207065Z",
     "start_time": "2021-01-19T21:38:12.199885Z"
    }
   },
   "outputs": [],
   "source": [
    "df.loc[:, 'target_names'] = df.target.map(lambda x: get_names(x))"
   ]
  },
  {
   "cell_type": "code",
   "execution_count": 26,
   "metadata": {
    "ExecuteTime": {
     "end_time": "2021-01-19T21:38:17.914780Z",
     "start_time": "2021-01-19T21:38:17.904318Z"
    }
   },
   "outputs": [
    {
     "data": {
      "text/html": [
       "<div>\n",
       "<style scoped>\n",
       "    .dataframe tbody tr th:only-of-type {\n",
       "        vertical-align: middle;\n",
       "    }\n",
       "\n",
       "    .dataframe tbody tr th {\n",
       "        vertical-align: top;\n",
       "    }\n",
       "\n",
       "    .dataframe thead th {\n",
       "        text-align: right;\n",
       "    }\n",
       "</style>\n",
       "<table border=\"1\" class=\"dataframe\">\n",
       "  <thead>\n",
       "    <tr style=\"text-align: right;\">\n",
       "      <th></th>\n",
       "      <th>sepal_length</th>\n",
       "      <th>sepal_width</th>\n",
       "      <th>petal_length</th>\n",
       "      <th>petal_width</th>\n",
       "      <th>target</th>\n",
       "      <th>target_names</th>\n",
       "    </tr>\n",
       "  </thead>\n",
       "  <tbody>\n",
       "    <tr>\n",
       "      <th>0</th>\n",
       "      <td>5.1</td>\n",
       "      <td>3.5</td>\n",
       "      <td>1.4</td>\n",
       "      <td>0.2</td>\n",
       "      <td>0</td>\n",
       "      <td>setosa</td>\n",
       "    </tr>\n",
       "    <tr>\n",
       "      <th>1</th>\n",
       "      <td>4.9</td>\n",
       "      <td>3.0</td>\n",
       "      <td>1.4</td>\n",
       "      <td>0.2</td>\n",
       "      <td>0</td>\n",
       "      <td>setosa</td>\n",
       "    </tr>\n",
       "    <tr>\n",
       "      <th>2</th>\n",
       "      <td>4.7</td>\n",
       "      <td>3.2</td>\n",
       "      <td>1.3</td>\n",
       "      <td>0.2</td>\n",
       "      <td>0</td>\n",
       "      <td>setosa</td>\n",
       "    </tr>\n",
       "    <tr>\n",
       "      <th>3</th>\n",
       "      <td>4.6</td>\n",
       "      <td>3.1</td>\n",
       "      <td>1.5</td>\n",
       "      <td>0.2</td>\n",
       "      <td>0</td>\n",
       "      <td>setosa</td>\n",
       "    </tr>\n",
       "    <tr>\n",
       "      <th>4</th>\n",
       "      <td>5.0</td>\n",
       "      <td>3.6</td>\n",
       "      <td>1.4</td>\n",
       "      <td>0.2</td>\n",
       "      <td>0</td>\n",
       "      <td>setosa</td>\n",
       "    </tr>\n",
       "  </tbody>\n",
       "</table>\n",
       "</div>"
      ],
      "text/plain": [
       "   sepal_length  sepal_width  petal_length  petal_width  target target_names\n",
       "0           5.1          3.5           1.4          0.2       0       setosa\n",
       "1           4.9          3.0           1.4          0.2       0       setosa\n",
       "2           4.7          3.2           1.3          0.2       0       setosa\n",
       "3           4.6          3.1           1.5          0.2       0       setosa\n",
       "4           5.0          3.6           1.4          0.2       0       setosa"
      ]
     },
     "execution_count": 26,
     "metadata": {},
     "output_type": "execute_result"
    }
   ],
   "source": [
    "df.head()"
   ]
  },
  {
   "cell_type": "markdown",
   "metadata": {},
   "source": [
    "### Train Test Split Function"
   ]
  },
  {
   "cell_type": "code",
   "execution_count": 36,
   "metadata": {
    "ExecuteTime": {
     "end_time": "2021-01-19T21:43:29.314731Z",
     "start_time": "2021-01-19T21:43:29.310408Z"
    }
   },
   "outputs": [],
   "source": [
    "def train_test_split(X, y, test_size, random_state=-1):\n",
    "    \"\"\"\n",
    "    The function takes a dataframe and splits it into\n",
    "    a training set and a test set. The proportion of the split\n",
    "    is determined by the test_size\n",
    "    \n",
    "    Input:\n",
    "    ------\n",
    "    \tX - pandas observations dataset\n",
    "    \ty - pandas label datase\n",
    "    \trandom_state - ensures the results are reproducible\n",
    "    \t\n",
    "    \ttest_size - a percentage of data that will be assigned to the test set\n",
    "    \t\n",
    "   \tOutput:\n",
    "   \t------\n",
    "   \t\tX_train - pandas data frame containing training observations\n",
    "   \t\ty_train - pandas data frame containing training labels\n",
    "   \t\ty_test -  pandas data frame containing test labels\n",
    "        X_test -  pandas data frame containing test observations\n",
    "    \"\"\"\n",
    "    \n",
    "    if isinstance(test_size, float):\n",
    "        test_size = round(test_size * len(X))\n",
    "        \n",
    "    indices = X.index.tolist()\n",
    "    test_indices = random.sample(population=indices, k=test_size)\n",
    "    X_test = X.loc[test_indices]\n",
    "    y_test = y.loc[test_indices]\n",
    "    X_train = X.drop(test_indices)\n",
    "    y_train = y.drop(test_indices)\n",
    "    return X_train, X_test, y_train, y_test"
   ]
  },
  {
   "cell_type": "code",
   "execution_count": 29,
   "metadata": {
    "ExecuteTime": {
     "end_time": "2021-01-19T21:39:34.240531Z",
     "start_time": "2021-01-19T21:39:34.237488Z"
    }
   },
   "outputs": [],
   "source": [
    "X = df.loc[:, 'sepal_length': 'petal_width']\n",
    "y = df.loc[:, 'target']"
   ]
  },
  {
   "cell_type": "code",
   "execution_count": 37,
   "metadata": {
    "ExecuteTime": {
     "end_time": "2021-01-19T21:43:40.384389Z",
     "start_time": "2021-01-19T21:43:40.380310Z"
    }
   },
   "outputs": [],
   "source": [
    "a, b, c, d = train_test_split(X, y, test_size=0.20, random_state=20)"
   ]
  },
  {
   "cell_type": "code",
   "execution_count": null,
   "metadata": {},
   "outputs": [],
   "source": []
  }
 ],
 "metadata": {
  "kernelspec": {
   "display_name": "Python 3",
   "language": "python",
   "name": "python3"
  },
  "language_info": {
   "codemirror_mode": {
    "name": "ipython",
    "version": 3
   },
   "file_extension": ".py",
   "mimetype": "text/x-python",
   "name": "python",
   "nbconvert_exporter": "python",
   "pygments_lexer": "ipython3",
   "version": "3.9.0"
  }
 },
 "nbformat": 4,
 "nbformat_minor": 4
}
